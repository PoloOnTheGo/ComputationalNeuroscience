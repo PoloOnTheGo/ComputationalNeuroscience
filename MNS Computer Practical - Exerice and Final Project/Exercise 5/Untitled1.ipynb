{
 "cells": [
  {
   "cell_type": "code",
   "execution_count": 1,
   "metadata": {},
   "outputs": [],
   "source": [
    "import numpy as np\n",
    "import matplotlib.pyplot as plt\n",
    "import math"
   ]
  },
  {
   "cell_type": "code",
   "execution_count": 2,
   "metadata": {},
   "outputs": [],
   "source": [
    "def get_timeline(t_max, dt):\n",
    "    return np.arange(0, t_max, dt)"
   ]
  },
  {
   "cell_type": "code",
   "execution_count": 3,
   "metadata": {},
   "outputs": [],
   "source": [
    "def initialize_arrays(t,initial_values) :\n",
    "    \n",
    "    n = np.zeros(len(t))\n",
    "    m = np.zeros(len(t))\n",
    "    h = np.zeros(len(t))\n",
    "    i_k = np.zeros(len(t))\n",
    "    i_na = np.zeros(len(t))\n",
    "    i_leak = np.zeros(len(t))\n",
    "    v = np.zeros(len(t))\n",
    "    \n",
    "    n[0] = initial_values['n0']\n",
    "    m[0] = initial_values['m0']\n",
    "    h[0] = initial_values['h0']\n",
    "    v[0] = initial_values['v0']\n",
    "\n",
    "    return n, m, h, i_k, i_na, i_leak, v"
   ]
  },
  {
   "cell_type": "code",
   "execution_count": 4,
   "metadata": {},
   "outputs": [],
   "source": [
    "def alpha_n(v) :\n",
    "    return 0.01*(v + 55)/(1 - np.exp(-0.1 * (v + 55)))"
   ]
  },
  {
   "cell_type": "code",
   "execution_count": 5,
   "metadata": {},
   "outputs": [],
   "source": [
    "def beta_n(v) :\n",
    "    return 0.125 * np.exp(-0.0125 * (v + 65))"
   ]
  },
  {
   "cell_type": "code",
   "execution_count": 6,
   "metadata": {},
   "outputs": [],
   "source": [
    "def alpha_m(v) :\n",
    "    return 0.1*(v + 40)/(1 - np.exp(-0.1 * (v + 40)))"
   ]
  },
  {
   "cell_type": "code",
   "execution_count": 7,
   "metadata": {},
   "outputs": [],
   "source": [
    "def beta_m(v) :\n",
    "    return 4 * np.exp(-0.0556 * (v + 65))"
   ]
  },
  {
   "cell_type": "code",
   "execution_count": 8,
   "metadata": {},
   "outputs": [],
   "source": [
    "def alpha_h(v) :\n",
    "    return 0.07 * np.exp(-0.05 * (v + 65))"
   ]
  },
  {
   "cell_type": "code",
   "execution_count": 9,
   "metadata": {},
   "outputs": [],
   "source": [
    "def beta_h(v) :\n",
    "    return 1/(1 + np.exp(-0.1 * (v + 35)))"
   ]
  },
  {
   "cell_type": "code",
   "execution_count": 10,
   "metadata": {},
   "outputs": [],
   "source": [
    "def open_close_ion_channel_probability(alpha_func, beta_func, v, x) :\n",
    "    return alpha_func(v)*(1-x) - beta_func(v)*x"
   ]
  },
  {
   "cell_type": "code",
   "execution_count": 11,
   "metadata": {},
   "outputs": [],
   "source": [
    "# def sodium_current(v, m, h, e_na=50, conductance=120e-9):\n",
    "#     return conductance*(m**3)*h*(v - e_na) *1e-3\n",
    "# Seimens = \n",
    "\n",
    "def sodium_current(v, m, h) :\n",
    "    g_na = 120 #S\n",
    "    e_na = 50 #mV\n",
    "    return g_na * np.power(m,3) * h * (v - e_na)"
   ]
  },
  {
   "cell_type": "code",
   "execution_count": 12,
   "metadata": {},
   "outputs": [],
   "source": [
    "# def potassium_current(v, n, e_k=-77, conductance=36e-9):#v in mV\n",
    "#     return conductance * (n**4) * (v - e_k) *1e-3\n",
    "def potassium_current(v, n) :\n",
    "    g_k = 36 #S\n",
    "    e_k = -77  #mV\n",
    "    return g_k * np.power(n,4) * (v - e_k)"
   ]
  },
  {
   "cell_type": "code",
   "execution_count": 13,
   "metadata": {},
   "outputs": [],
   "source": [
    "# def leak_current(v, e_leak=-54.387, conductance=0.3e-9):\n",
    "#     return conductance*(v - e_leak)*1e-3\n",
    "def leak_current(v) :\n",
    "    g_leak = 0.3 #S\n",
    "    e_leak =-54.387 #mV\n",
    "    return g_leak * (v - e_leak)"
   ]
  },
  {
   "cell_type": "code",
   "execution_count": 14,
   "metadata": {},
   "outputs": [],
   "source": [
    "# def hodgkin_huxley_model(v, i_na, i_k, i_leak, i_e, cm):\n",
    "#     return (-i_na - i_k - i_leak + i_e) / cm\n",
    "\n",
    "def hodgkin_huxley_model(v, i_k, i_na, i_leak, i_e, c_m) :\n",
    "    i = (- i_na - i_k - i_leak + i_e)*1e-9 # in nA\n",
    "    potential = (- i_na - i_k - i_leak + i_e)/c_m # in volt/sec = mV/ms\n",
    "    return potential # in mV/ms"
   ]
  },
  {
   "cell_type": "code",
   "execution_count": 15,
   "metadata": {},
   "outputs": [],
   "source": [
    "def exp_applied_current(ie, is_Ie_time_dep, is_Ie_ext, t) :\n",
    "\n",
    "    i_e = np.zeros(len(t))\n",
    "    if is_Ie_time_dep : \n",
    "        i_e.fill(ie)\n",
    "#         idx_triggered = (t > params['t_trigger'])\n",
    "#         ie[idx_triggered] = params['ie']\n",
    "#         ie[~idx_triggered] = params['ie_pt'] \n",
    "    elif is_Ie_ext :\n",
    "        i_e.fill(ie)\n",
    "#         ie = params['ie_func']\n",
    "    else:\n",
    "        i_e.fill(ie)\n",
    "    #     ie = np.zeros_like(t)\n",
    "#     if params['is_ie_time_dependent']:        \n",
    "#         idx_triggered = (t > params['t_trigger'])\n",
    "#         ie[idx_triggered] = params['ie']\n",
    "#         ie[~idx_triggered] = params['ie_pt'] \n",
    "#     elif params['is_ie_external']:\n",
    "#         ie = params['ie_func']\n",
    "#     else:\n",
    "#         ie.fill(params['ie'])\n",
    "        \n",
    "    return i_e"
   ]
  },
  {
   "cell_type": "code",
   "execution_count": 16,
   "metadata": {},
   "outputs": [],
   "source": [
    "def euler(params, init_values, t_max, dt):\n",
    "    \n",
    "    t = get_timeline(t_max, dt);\n",
    "    n, m, h, i_k, i_na, i_leak, v = initialize_arrays(t,initial_values);\n",
    "    \n",
    "    ie = exp_applied_current(params['ie'], params['is_Ie_time_dep'], params['is_Ie_ext'], t)\n",
    "    \n",
    "    for i in range(len(t)-1): \n",
    "        n[i+1] = n[i] + dt *  open_close_ion_channel_probability(alpha_n, beta_n, v[i], n[i])\n",
    "        m[i+1] = m[i] + dt *  open_close_ion_channel_probability(alpha_m, beta_m, v[i], m[i])\n",
    "        h[i+1] = h[i] + dt *  open_close_ion_channel_probability(alpha_h, beta_h, v[i], h[i])\n",
    "        \n",
    "        i_na[i+1] = sodium_current(v[i], m[i], h[i])\n",
    "        i_k[i+1] = potassium_current(v[i], n[i])\n",
    "        i_leak[i+1] = leak_current(v[i]) \n",
    "        \n",
    "        v[i+1] = v[i] + dt * hodgkin_huxley_model(v[i], i_na[i+1], i_k[i+1], i_leak[i+1], ie[i], params['c_m'])\n",
    "    \n",
    "    return n, m, h, i_k, i_na, i_leak, v, t"
   ]
  },
  {
   "cell_type": "code",
   "execution_count": 17,
   "metadata": {},
   "outputs": [
    {
     "name": "stderr",
     "output_type": "stream",
     "text": [
      "<ipython-input-4-231a137a3554>:2: RuntimeWarning: overflow encountered in exp\n",
      "  return 0.01*(v + 55)/(1 - np.exp(-0.1 * (v + 55)))\n",
      "<ipython-input-10-2dbe03621be2>:2: RuntimeWarning: invalid value encountered in double_scalars\n",
      "  return alpha_func(v)*(1-x) - beta_func(v)*x\n",
      "<ipython-input-14-757ee5ada6b8>:5: RuntimeWarning: invalid value encountered in double_scalars\n",
      "  i = (- i_na - i_k - i_leak + i_e)*1e-9 # in nA\n",
      "<ipython-input-14-757ee5ada6b8>:6: RuntimeWarning: invalid value encountered in double_scalars\n",
      "  potential = (- i_na - i_k - i_leak + i_e)/c_m # in volt/sec = mV/ms\n"
     ]
    }
   ],
   "source": [
    "dt =1e-2\n",
    "t_max = 50\n",
    "\n",
    "initial_values = {\n",
    "    'v0' : -65,\n",
    "    'n0' : 0.3177,\n",
    "    'm0' : 0.0529,\n",
    "    'h0' : 0.5961\n",
    "}\n",
    "\n",
    "\n",
    "params = {\n",
    "    'ie' : 0,\n",
    "    'is_Ie_time_dep' :  False,\n",
    "    'is_Ie_ext' : False,\n",
    "    'c_m' : 1e-12\n",
    "}\n",
    "\n",
    "\n",
    "n, m, h, i_k, i_na, i_leak, v, t = euler(params, initial_values, t_max, dt)"
   ]
  },
  {
   "cell_type": "code",
   "execution_count": 18,
   "metadata": {},
   "outputs": [
    {
     "data": {
      "image/png": "[encoded data removed]",
      "text/plain": [
       "<Figure size 720x360 with 1 Axes>"
      ]
     },
     "metadata": {
      "needs_background": "light"
     },
     "output_type": "display_data"
    }
   ],
   "source": [
    "plt.figure(figsize=(10,5))\n",
    "\n",
    "ax = plt.gca()\n",
    "ax.ticklabel_format(useOffset=False)\n",
    "plt.title('Membrane Voltage')\n",
    "plt.plot(t,v)\n",
    "plt.xlabel('time (mS)')\n",
    "plt.ylabel('voltage (mV)')\n",
    "plt.show()\n"
   ]
  },
  {
   "cell_type": "code",
   "execution_count": null,
   "metadata": {},
   "outputs": [],
   "source": []
  }
 ],
 "metadata": {
  "kernelspec": {
   "display_name": "Python 3",
   "language": "python",
   "name": "python3"
  },
  "language_info": {
   "codemirror_mode": {
    "name": "ipython",
    "version": 3
   },
   "file_extension": ".py",
   "mimetype": "text/x-python",
   "name": "python",
   "nbconvert_exporter": "python",
   "pygments_lexer": "ipython3",
   "version": "3.8.3"
  }
 },
 "nbformat": 4,
 "nbformat_minor": 4
}
